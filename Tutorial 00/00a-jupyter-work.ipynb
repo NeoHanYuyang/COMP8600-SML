{
    "metadata": {
        "kernelspec": {
            "name": "python3",
            "display_name": "Python 3 (ipykernel)",
            "language": "python"
        }
    },
    "nbformat": 4,
    "nbformat_minor": 1,
    "cells": [
        {
            "attachments": {},
            "cell_type": "markdown",
            "metadata": {},
            "source": [
                "# Introduction to Jupyter notebooks"
            ]
        },
        {
            "attachments": {},
            "cell_type": "markdown",
            "metadata": {},
            "source": [
                "###### COMP4670/8600 - Statistical Machine Learning"
            ]
        },
        {
            "attachments": {},
            "cell_type": "markdown",
            "metadata": {},
            "source": [
                "This tutorial will introduce the *basic elements* for writing Python programs, and using \n",
                "[Jupyter notebooks](http://jupyter.org/). \n",
                "\n",
                "Due to the wide variety of backgrounds that students may have, it is worth recalling some mathematics and statistics that we build upon in this course."
            ]
        },
        {
            "attachments": {},
            "cell_type": "markdown",
            "metadata": {},
            "source": [
                "$\\newcommand{\\RR}{\\mathbb{R}}$\n",
                "## Basic knowledge\n",
                "\n",
                "Let's refresh our memory about some concepts.\n",
                "\n",
                "### Random variables\n",
                "\n",
                "Write down the definitions of the following entities, and provide a simple example to illustrate.\n",
                "\n",
                "1. The expectation of a function $f$ with respect to a\n",
                "   * continuous random variable $X$\n",
                "   * discrete random variable $X$\n",
                "2. The variance of a random variable $X$.\n",
                "3. Independence of two random variables $X$ and $Y$"
            ]
        },
        {
            "attachments": {},
            "cell_type": "markdown",
            "metadata": {},
            "source": [
                "### \u003cspan style=\"color:blue\"\u003eAnswer\u003c/span\u003e\n",
                "\n",
                "1. continuous: $E[f(X)] = \\int f(x)p(x)\\, dx$\n",
                "\n",
                "   discrte: $E[f(X)] = \\sum_{x} f(x)p(x)$\n",
                "2. $Var(X) = E[(X - E[X])^2] = E[X^2] - E[X]^2$\n",
                "\n",
                "   continuous: $\\int (x - E[X])^2p(x) \\, dx$\n",
                "   \n",
                "   discrte: $\\sum_x (x - E[X])^2 p(x)$\n",
                "\n",
                "3. $X$ and $Y$ are \u003cem\u003eindependent\u003c/em\u003e if $p(x, y) = p(x)p(y)$\n",
                "   \n",
                "   that is $p(x|y) = p(x)$ and $p(y|x) = p(y)$\n",
                ""
            ]
        },
        {
            "attachments": {},
            "cell_type": "markdown",
            "metadata": {},
            "source": [
                "### Discrete probabilities\n",
                "\n",
                "For discrete random variables $X$ and $Y$, define the following, and show an example of how it applies to the example below.\n",
                "\n",
                "| $p(\\mathbf{X},\\mathbf{Y})$ | X=a | X=b | X=c | X=d | X=e |\n",
                "|:--------------------------:|:--:|:--:|:--:|:--:|:--:|\n",
                "| **Y** = red |0.2 |0.1 |0.1 |0.01|0.04|\n",
                "| **Y** = green |0.08|0.07|0.01|0.05|0.05|\n",
                "| **Y** = blue |0.01|0.01|0.07|0.05|0.15|\n",
                "\n",
                "1. The sum rule of probability theory\n",
                "2. The product rule of probability theory\n",
                "3. Independence of two random variables $X$ and $Y$"
            ]
        },
        {
            "attachments": {},
            "cell_type": "markdown",
            "metadata": {},
            "source": [
                "### \u003cspan style=\"color:blue\"\u003eAnswer\u003c/span\u003e\n",
                "\n",
                "1. According to the sum rule $p(x) = \\sum_y p(x, y)$\n",
                "\n",
                "    $p(X=a) = p(X=a, Y=red) + p(X=a, Y=green) + p(X=a, Y=blue) = 0.29$\n",
                "    \n",
                "    $p(X=b) = p(X=b, Y=red) + p(X=b, Y=green) + p(X=b, Y=blue) = 0.18$ \n",
                "    \n",
                "    etc.\n",
                "\n",
                "2. According to the product rule $p(x)=\\sum_y p(x|y)p(y)$ \n",
                "and sum rule $p(y) = \\sum_x p(y, x)$\n",
                "\n",
                "    $p(X = a) = \n",
                "    p(X=a|Y=red)p(Y=red) + \n",
                "    p(X=a|Y=green)p(Y=green)+\n",
                "    p(X=a|Y=blue)p(Y=blue) \n",
                "    = 0.2\\div 0.45\\times0.45 + 0.08\\div 0.26 \\times 0.26 + 0.01\\div 0.29 \\times 0.29 = 0.29$\n",
                "\n",
                "    etc.\n",
                "\n",
                "3. X and Y are not independent as in\n",
                "\n",
                "    $p(X=a, Y=red) = 0.2$ \n",
                "\n",
                "    $p(x)p(y) = 0.29\\times 0.45 = 0.1305$\n",
                "\n",
                "    $p(X=a, Y=red)\\neq p(X=a)p(Y=red)$\n",
                "\n",
                ""
            ]
        },
        {
            "attachments": {},
            "cell_type": "markdown",
            "metadata": {},
            "source": [
                "### Calculus\n",
                "\n",
                "Compute the gradient of the following function $f:\\mathbb{R}\\to\\mathbb{R}$\n",
                "$$\n",
                "f(x) = \\frac{1}{1 + \\exp(x^2)}\n",
                "$$\n",
                "What would the the gradient if $x$ was two dimensional (that is $f:\\mathbb{R}^2\\to\\mathbb{R}$)? Generalise the scalar function above appropriately."
            ]
        },
        {
            "attachments": {},
            "cell_type": "markdown",
            "metadata": {},
            "source": [
                "### \u003cspan style=\"color:blue\"\u003eAnswer\u003c/span\u003e\n",
                "\n",
                "According to the reciprocal rule $\\frac{[\\partial \\frac{1}{u(x)}]}{\\partial x} = \\frac{\\frac{\\partial}{\\partial x} u(x)}{u(x)^2}$\n",
                "\n",
                "1. For $f:\\mathbb{R}\\to\\mathbb{R}$\n",
                "\n",
                "$\\frac{\\partial f}{\\partial x} = -\\frac{2xexp(x^2)}{(exp(x^2) + 1)^2}$\n",
                "\n",
                "\n",
                "\n",
                "\n",
                "2. For $f:\\mathbb{R}^2\\to\\mathbb{R}$\n",
                "\n",
                "we have $f(x) = \\frac{1}{1+exp(||x||^2)} = \\frac{1}{1+exp(x_1^2 + x_2^2)}$\n",
                "\n",
                "then\n",
                "\n",
                "$\\delta f = \\begin{bmatrix}\n",
                "\\frac{\\partial f}{\\partial x_1}\\\\\n",
                "\\frac{\\partial f}{\\partial x_2}\n",
                "\\end{bmatrix} = \n",
                "\\frac{-2exp(||x||^2)}{(exp(||x||^2) + 1)^2}\n",
                "\\begin{bmatrix}\n",
                "x_1\\\\\n",
                "x_2\n",
                "\\end{bmatrix} =\n",
                "\\frac{-2exp(x_1^2 + x_2^2)}{(exp(x_1^2 + x_2^2) + 1)^2}\n",
                "\\begin{bmatrix}\n",
                "x_1\\\\\n",
                "x_2\n",
                "\\end{bmatrix}$"
            ]
        },
        {
            "attachments": {},
            "cell_type": "markdown",
            "metadata": {},
            "source": [
                "## Python and Programming for Machine Learning"
            ]
        },
        {
            "attachments": {},
            "cell_type": "markdown",
            "metadata": {},
            "source": [
                "*If you already know Python and Jupyter notebooks well, please work on Tutorial 1b \"Matrix decomposition\"*\n",
                "\n",
                "The introduction will focus on the concepts necessary for writing small programs in Python for the purpose of Machine Learning. That means, we expect a user of the code will be a reasonable knowledgeable person. Therefore, we can *skip* most of the code a robust system would have to contain in order to *check* the input types, *verify* the input parameter ranges, and *make sure* that really nothing can go wrong when somebody else is using the code.\n",
                "Having said this, you are nevertheless encouraged to include some sanity tests into your code to avoid making simple errors which can cost you a lot of time to find.\n",
                "Some of the Python concepts discussed in the tutorial will be\n",
                "- Data types (bool, int, float, str, list, tuple, set, dict)\n",
                "- Operators\n",
                "- Data flow\n",
                "- Functions\n",
                "- Classes and objects\n",
                "- Modules and how to use them\n",
                "\n",
                "**We will be using [Python3](https://wiki.python.org/moin/Python2orPython3) in this course**.\n",
                "\n",
                "Some resources:\n",
                "- [CodeAcademy](http://www.codecademy.com/en/tracks/python) gives a step by step introduction to python\n",
                "- [How to think like a computer scientist](https://runestone.academy/ns/books/published/thinkcspy/index.html) does what it says, using Python\n",
                "\n",
                "## Installation\n",
                "\n",
                "The easiest way to get a working Python environment is using one of the following collections:\n",
                "- [Enthought canopy](https://store.enthought.com/)\n",
                "- [Anaconda](http://continuum.io/downloads)\n",
                "\n",
                "It is also not too difficult to install python using your favourite package manager and then use [conda](http://conda.pydata.org/docs/) or [pip](http://en.wikipedia.org/wiki/Pip_%28package_manager%29) to manage python packages."
            ]
        },
        {
            "attachments": {},
            "cell_type": "markdown",
            "metadata": {},
            "source": [
                "## Jupyter Notebooks"
            ]
        },
        {
            "attachments": {},
            "cell_type": "markdown",
            "metadata": {},
            "source": [
                "**To work on a worksheet or assignment, download the notebook and edit it locally.**\n",
                "\n",
                "[Jupyter notebooks](http://jupyter.org/) provide a convenient browser based environment for data analysis in a literate programming environment. The descriptive parts of the notebook implements an enhanced version of [markdown](http://daringfireball.net/projects/markdown/syntax), which allows the use of [LaTeX](http://www.latex-project.org/) for rendering equations.\n",
                "1. Descriptive notes\n",
                "   - Markdown\n",
                "   - LaTeX\n",
                "2. Computational code\n",
                "   - numerical python\n",
                "      * numpy\n",
                "      * scipy\n",
                "   - matplotlib\n",
                "   \n",
                "To use a notebook locally:\n",
                "```bash\n",
                "jupyter notebook name_of_file.ipynb\n",
                "```\n",
                ""
            ]
        },
        {
            "attachments": {},
            "cell_type": "markdown",
            "metadata": {},
            "source": [
                "## Markdown and LaTeX\n",
                "\n",
                "In addition to lists and links which are already shown above, \n",
                "tables are also nice and easy\n",
                "\n",
                "|Title | Middle| Left aligned | Right aligned |\n",
                "|------|:-----:|:-----|--:|\n",
                "|Monday|10:00|Sunny|*30*|\n",
                "|Thursday|12:32|Rain|*22.3*|\n",
                "\n",
                "It is also easy to typeset good looking equations inline, such as $f(x) = x^2$, or on a line by itself.\n",
                "\\begin{equation}\n",
                "    g(x) = \\sum_{i=1}^n \\frac{\\prod_{j=1}^d y_j \\sqrt{3x_i^4}}{f(x_i)}\n",
                "\\end{equation}\n",
                "If you use a symbol often, you can define it at the top of a document as follows (look at source), and use it in equations.\n",
                "\n",
                "$\\newcommand{\\amazing}{\\sqrt{3x_i^4}}$\n",
                "\n",
                "\\begin{equation}\n",
                "    h(x) = \\sum_{i=1}^n \\amazing\n",
                "\\end{equation}\n",
                "\n",
                "## Computational code\n",
                "\n",
                "Setting up python environment ([do not use pylab](http://carreau.github.io/posts/10-No-PyLab-Thanks.ipynb.html))"
            ]
        },
        {
            "cell_type": "code",
            "execution_count": 1,
            "metadata": {},
            "outputs": [],
            "source": [
                "import matplotlib.pyplot as plt\n",
                "import numpy as np\n",
                "import scipy as sp\n",
                "\n",
                "%matplotlib inline"
            ]
        },
        {
            "attachments": {},
            "cell_type": "markdown",
            "metadata": {},
            "source": [
                "Some resources:\n",
                "* [Tentative NumPy Tutorial](http://wiki.scipy.org/Tentative_NumPy_Tutorial)\n",
                "* [SciPy Tutorial](http://docs.scipy.org/doc/scipy/reference/tutorial/)\n",
                "* [Matplotlib PyPlot Tutorial](http://matplotlib.org/1.3.1/users/pyplot_tutorial.html)\n",
                ""
            ]
        },
        {
            "attachments": {},
            "cell_type": "markdown",
            "metadata": {},
            "source": [
                "## Toy dataset for debugging\n",
                "\n",
                "Write a function ```gen_data``` that generates data from two Gaussians with unit variance, centered at $\\mathbf{1}$ and $-\\mathbf{1}$ respectively. $\\mathbf{1}$ is the vector of all ones.\n",
                "\n",
                "*Hint: use ```np.ones``` and ```np.random.randn```*\n",
                "\n",
                "Use the function to generate 100 samples from each Gaussian, with a 5 dimensional feature space."
            ]
        },
        {
            "cell_type": "code",
            "execution_count": 2,
            "metadata": {},
            "outputs": [],
            "source": [
                "# replace this with your solution, add and remove code and markdown cells as appropriate\n",
                "def gen_data(feature_dim = 5, n_samples = 100):\n",
                "    '''\n",
                "    generate data from two Gaussians with unit variance\n",
                "    centered at -1 and 1 respectively\n",
                "    '''\n",
                "    x1 = np.ones((feature_dim, n_samples)) + np.random.randn(feature_dim, n_samples)\n",
                "    x2 = -np.ones((feature_dim, n_samples)) + np.random.randn(feature_dim, n_samples)\n",
                "    X = np.concatenate((x1, x2), axis=1)\n",
                "    # X = np.hstack([x1, x2])\n",
                "\n",
                "    return X\n",
                "\n",
                "toy_data = gen_data()"
            ]
        },
        {
            "attachments": {},
            "cell_type": "markdown",
            "metadata": {},
            "source": [
                "\n",
                "Use ```gen_data``` to generate 100 samples from each Gaussian, with a 2 dimensional feature space. Plot this data.\n",
                "\n",
                "Discuss:\n",
                "- Can you see two bumps?\n",
                "- Does the data look Gaussian?\n",
                "- What happens with more dimensions?"
            ]
        },
        {
            "cell_type": "code",
            "execution_count": 3,
            "metadata": {},
            "outputs": [
                {
                    "data": {
                        "image/png": "[encoded data removed]",
                        "text/plain": "\u003cFigure size 640x480 with 1 Axes\u003e"
                    },
                    "metadata": {},
                    "output_type": "display_data"
                }
            ],
            "source": [
                "# replace this with your solution, add and remove code and markdown cells as appropriate\n",
                "Y = gen_data(100, 2)\n",
                "plt.plot(Y[:, 0], Y[:, 1], 'r.')\n",
                "plt.show()"
            ]
        },
        {
            "attachments": {},
            "cell_type": "markdown",
            "metadata": {},
            "source": [
                "## Reading the writing CSV\n",
                "\n",
                "Write a file containing the data to a csv file. Confirm that you can read this data using python and also manually inspect the file with a text editor."
            ]
        },
        {
            "cell_type": "code",
            "execution_count": 4,
            "metadata": {},
            "outputs": [
                {
                    "name": "stdout",
                    "output_type": "stream",
                    "text": "[[ 9.20868568e-01  9.29432138e-02 -1.10892009e+00 -4.86597849e-01]\n [ 1.03027165e+00  1.53958642e+00 -1.47867183e+00 -1.83908149e+00]\n [ 7.51922703e-01  3.07929927e-01  1.04547006e-03 -6.62199459e-01]\n [ 1.71015651e+00  2.01383228e+00 -1.74602041e+00 -1.23001554e+00]\n [ 2.14165992e+00  1.82479118e+00 -1.58155589e+00 -1.39926740e+00]\n [ 2.23007071e+00  2.14045485e+00 -6.11854675e-01 -2.39123757e+00]\n [ 4.93266413e-01  1.61087580e+00  7.30919094e-01  7.24574317e-01]\n [ 9.71739384e-01  4.51183216e-01 -1.20312041e+00 -2.87257179e+00]\n [ 2.46550267e+00  2.74843071e+00 -9.37451146e-01 -2.77559169e+00]\n [ 1.34959971e+00  1.46986710e+00 -1.15142982e+00  4.77408478e-01]\n [ 6.14160513e-01 -1.46990900e+00 -1.74478427e+00 -2.72156822e+00]\n [ 7.02432281e-01 -1.76390570e-01  7.47787547e-01 -5.95294735e-01]\n [-4.72231727e-02  2.50860171e-01 -2.91205183e+00 -7.01521527e-01]\n [ 1.20130126e+00  2.54578128e-01 -9.13929706e-02 -7.35845811e-01]\n [-5.11555670e-01  6.23440710e-01 -7.97790973e-01 -2.70386492e+00]\n [ 9.10289896e-01  1.88113517e+00 -1.61834349e+00 -1.46304435e+00]\n [ 1.70633351e+00  1.11540467e+00  8.27819583e-01 -1.54089789e+00]\n [-1.14660041e+00  1.58855478e+00 -4.11521649e-02 -1.04044866e+00]\n [ 9.48234639e-02  7.82415865e-01 -2.59260658e+00 -7.15955214e-01]\n [ 2.34148522e-01  1.46831478e+00 -2.06265100e+00 -1.11914548e-01]\n [ 1.15076193e+00  2.58401548e+00  4.85070102e-01 -2.20952153e+00]\n [ 8.79501065e-01  1.30079613e+00 -8.14402161e-01 -1.07270824e+00]\n [ 1.61122490e+00  2.42625543e+00 -1.96713963e-01 -1.53907219e+00]\n [ 2.16493563e+00  1.56985306e+00 -6.72949798e-01 -6.32113689e-01]\n [ 2.21806585e+00  1.07087253e+00 -1.59645954e+00 -6.09566673e-01]\n [ 1.88002158e+00  7.01237090e-01  3.27113050e-01 -9.67217702e-01]\n [ 4.78956394e-01  4.14071153e-01  6.24175787e-01 -1.98587984e+00]\n [ 1.99226316e+00  1.64972641e+00 -4.12607619e-01 -3.12997002e-01]\n [ 1.29345339e+00 -3.79020832e-01  3.66591093e-01 -6.25687648e-01]\n [ 2.00772734e+00  3.89505931e+00  1.06891025e-01 -1.97680210e+00]\n [ 3.13863623e-01  1.43242800e+00 -6.16281362e-01 -5.10079143e-02]\n [ 1.32621118e+00  2.30380205e+00 -7.78540259e-01 -2.88070222e-01]\n [ 1.49638563e+00  3.79589933e-01  7.47935353e-01 -3.77138442e-01]\n [ 9.87805733e-02  3.29611273e-01 -1.52398627e+00 -1.50410904e+00]\n [ 8.06594638e-01  4.81827559e-01 -3.99908198e+00 -7.47427368e-01]\n [ 9.11862800e-02  1.29884062e+00 -1.58312381e+00 -2.30647590e+00]\n [-6.27185397e-01  1.22111507e+00 -8.59470499e-01 -3.15703013e+00]\n [ 5.82086641e-01  3.70811674e-01  2.40942418e-02 -3.63759741e-01]\n [ 2.52995459e+00  1.08377015e-01 -2.06231913e+00 -1.30239544e+00]\n [ 1.21482090e+00  2.10737181e-01 -1.25587892e+00 -1.44202588e+00]\n [ 1.26773934e+00  1.53881988e+00 -1.24402068e+00 -1.05286727e+00]\n [ 2.84187148e+00 -8.73275738e-01 -1.79650231e+00 -1.19117312e+00]\n [ 1.46520346e+00  1.52426949e+00 -3.56885738e-01 -1.29362297e+00]\n [ 3.49985149e-01  1.81903751e+00 -5.60778995e-01 -2.09846723e+00]\n [ 1.21084393e-01  1.65702724e+00 -1.85661164e+00 -1.56185326e+00]\n [ 2.76622754e-01  1.41809979e+00 -6.54067865e-01 -1.04015768e+00]\n [-2.30746604e-01  7.63899814e-01 -1.24166576e+00 -9.79315310e-01]\n [ 1.02040274e+00  1.67089082e+00 -1.49935412e+00 -8.25729896e-01]\n [ 6.66417388e-01 -1.74372023e-01 -2.15698751e+00 -7.78211808e-01]\n [ 6.97253412e-01  1.35808908e+00 -5.24176619e-01 -5.10468007e-01]\n [ 2.71834834e-01  7.30441735e-01 -1.92640062e+00 -1.67833259e+00]\n [ 1.94968450e+00  7.07528436e-01 -2.71480473e+00 -1.16030770e+00]\n [-6.10269099e-01 -6.60114011e-01 -3.00292814e+00 -2.16787105e+00]\n [ 1.95838217e+00  6.77623026e-01 -9.63795581e-01 -3.43499097e-01]\n [-7.41710350e-01  1.36160636e+00  6.27832730e-02  1.18301511e+00]\n [ 2.00421095e-01  7.33961420e-01 -1.34389996e+00 -1.53119381e+00]\n [ 1.97120615e+00  1.38987581e+00 -8.55895921e-01 -5.03443372e-01]\n [-7.96178889e-02  1.78410232e+00 -1.21218343e+00 -3.55297998e-01]\n [-2.91648907e-01  2.63812247e+00 -1.56943929e+00 -5.78239680e-01]\n [ 2.05930805e+00 -4.66391926e-01 -1.99559646e+00 -5.59703533e-01]\n [ 8.88659745e-01  1.49644815e+00  1.65559736e-01 -4.38740716e-01]\n [ 2.03509751e+00  3.23643670e-01 -1.45940338e+00 -1.50011006e+00]\n [-9.77733869e-03  2.44309361e+00 -1.44394322e+00 -1.40867764e+00]\n [ 4.55081783e-01 -1.79431825e-01 -1.36198814e-01 -1.19911581e+00]\n [ 1.62416856e+00  1.00160618e+00  8.32656643e-01 -1.46090005e+00]\n [ 1.49621063e-01  2.71559335e+00 -1.62841348e+00 -2.71120368e+00]\n [ 1.50369128e+00  4.27990995e-01  1.33455829e+00 -3.32708510e-01]\n [-1.55181816e-01  2.17566101e-01 -3.91926362e+00 -1.35085614e+00]\n [ 1.13161739e+00  3.01720287e+00 -1.07572766e+00 -1.91795401e-01]\n [ 3.41217073e+00  1.54975621e+00 -1.60276547e+00 -1.15065877e+00]\n [ 2.00341132e+00  8.59421734e-01 -1.56992257e+00 -2.88663829e-01]\n [-1.04024342e+00  2.32146652e+00 -8.15359905e-01  2.00529974e-01]\n [ 6.52001980e-01  3.94975733e-01  1.19201759e-01 -1.64875449e-01]\n [ 1.24533467e+00  3.29111060e-01 -9.67051402e-01 -8.39040974e-01]\n [ 1.20048964e+00  2.82377292e-01 -2.28329004e+00 -1.66412194e+00]\n [-8.02762123e-01  1.35013623e+00 -3.11113237e-01 -1.50841733e+00]\n [-5.71425684e-01  2.24501142e-01 -8.28452293e-02 -2.08135538e-01]\n [ 2.66655734e+00  5.11390213e-01 -1.07549545e+00 -2.04456958e+00]\n [ 1.78074243e+00  3.20404478e+00 -1.54971682e-01 -2.38234382e-01]\n [ 9.63673570e-02  1.43453254e+00 -2.52581994e-01 -2.15028713e+00]\n [ 2.47424661e+00  1.99521193e+00  8.51205812e-01 -2.13647047e-01]\n [-1.67327359e-01  1.81505155e+00 -1.48038838e+00 -2.52637898e+00]\n [ 1.72760531e+00  4.30052161e-01  8.40914291e-02  4.57635232e-01]\n [ 1.26095065e+00  1.61598496e-01 -1.35092543e+00 -2.55577500e+00]\n [ 1.52273641e+00  6.08328656e-01 -2.53562567e-01 -1.06722090e+00]\n [ 8.95783000e-01  1.93475656e+00  4.78894102e-04 -3.53901186e+00]\n [ 2.29273866e+00  2.75129120e-02 -9.06935380e-01 -1.21709208e+00]\n [-8.09656160e-01 -2.53818511e-01  3.42331080e-01 -9.46023022e-01]\n [ 9.19306725e-01  6.89171510e-01 -6.11965192e-01 -1.53044844e+00]\n [ 6.67381171e-01  1.61752076e-01  7.24017645e-01 -4.53833053e-01]\n [ 2.41377808e+00  3.75202102e-01  6.22947728e-01 -2.93557197e+00]\n [ 1.36706292e+00  8.80135097e-01  3.35192840e-01 -8.62480061e-01]\n [ 1.03083593e+00  7.50791074e-01 -1.92540789e+00 -1.55883286e+00]\n [ 2.03505920e+00  1.73982392e+00 -1.98318767e+00 -3.00683948e+00]\n [ 6.17822244e-01  9.23680113e-01  1.13754280e-01 -1.48960940e+00]\n [ 1.07675544e+00  1.37445293e+00 -2.32667548e+00 -3.22904842e+00]\n [ 3.07780194e-01  1.30445724e-01 -1.05310245e+00 -1.22014680e+00]\n [-2.77327433e-01  4.07609514e-01 -7.67997146e-01 -1.92686743e+00]\n [ 1.22088297e+00 -9.97718342e-02 -1.93574068e+00 -2.14077997e+00]\n [ 4.32753731e-01  1.15964177e+00 -3.34255856e+00 -7.70758968e-01]]\n"
                }
            ],
            "source": [
                "# replace this with your solution, add and remove code and markdown cells as appropriate\n",
                "\n",
                "np.savetxt('two_gaussians.csv', Y, delimiter = ',')\n",
                "\n",
                "print(Y)\n",
                ""
            ]
        },
        {
            "cell_type": "code",
            "execution_count": 5,
            "metadata": {},
            "outputs": [
                {
                    "name": "stdout",
                    "output_type": "stream",
                    "text": "[[ 9.20868568e-01  9.29432138e-02 -1.10892009e+00 -4.86597849e-01]\n [ 1.03027165e+00  1.53958642e+00 -1.47867183e+00 -1.83908149e+00]\n [ 7.51922703e-01  3.07929927e-01  1.04547006e-03 -6.62199459e-01]\n [ 1.71015651e+00  2.01383228e+00 -1.74602041e+00 -1.23001554e+00]\n [ 2.14165992e+00  1.82479118e+00 -1.58155589e+00 -1.39926740e+00]\n [ 2.23007071e+00  2.14045485e+00 -6.11854675e-01 -2.39123757e+00]\n [ 4.93266413e-01  1.61087580e+00  7.30919094e-01  7.24574317e-01]\n [ 9.71739384e-01  4.51183216e-01 -1.20312041e+00 -2.87257179e+00]\n [ 2.46550267e+00  2.74843071e+00 -9.37451146e-01 -2.77559169e+00]\n [ 1.34959971e+00  1.46986710e+00 -1.15142982e+00  4.77408478e-01]\n [ 6.14160513e-01 -1.46990900e+00 -1.74478427e+00 -2.72156822e+00]\n [ 7.02432281e-01 -1.76390570e-01  7.47787547e-01 -5.95294735e-01]\n [-4.72231727e-02  2.50860171e-01 -2.91205183e+00 -7.01521527e-01]\n [ 1.20130126e+00  2.54578128e-01 -9.13929706e-02 -7.35845811e-01]\n [-5.11555670e-01  6.23440710e-01 -7.97790973e-01 -2.70386492e+00]\n [ 9.10289896e-01  1.88113517e+00 -1.61834349e+00 -1.46304435e+00]\n [ 1.70633351e+00  1.11540467e+00  8.27819583e-01 -1.54089789e+00]\n [-1.14660041e+00  1.58855478e+00 -4.11521649e-02 -1.04044866e+00]\n [ 9.48234639e-02  7.82415865e-01 -2.59260658e+00 -7.15955214e-01]\n [ 2.34148522e-01  1.46831478e+00 -2.06265100e+00 -1.11914548e-01]\n [ 1.15076193e+00  2.58401548e+00  4.85070102e-01 -2.20952153e+00]\n [ 8.79501065e-01  1.30079613e+00 -8.14402161e-01 -1.07270824e+00]\n [ 1.61122490e+00  2.42625543e+00 -1.96713963e-01 -1.53907219e+00]\n [ 2.16493563e+00  1.56985306e+00 -6.72949798e-01 -6.32113689e-01]\n [ 2.21806585e+00  1.07087253e+00 -1.59645954e+00 -6.09566673e-01]\n [ 1.88002158e+00  7.01237090e-01  3.27113050e-01 -9.67217702e-01]\n [ 4.78956394e-01  4.14071153e-01  6.24175787e-01 -1.98587984e+00]\n [ 1.99226316e+00  1.64972641e+00 -4.12607619e-01 -3.12997002e-01]\n [ 1.29345339e+00 -3.79020832e-01  3.66591093e-01 -6.25687648e-01]\n [ 2.00772734e+00  3.89505931e+00  1.06891025e-01 -1.97680210e+00]\n [ 3.13863623e-01  1.43242800e+00 -6.16281362e-01 -5.10079143e-02]\n [ 1.32621118e+00  2.30380205e+00 -7.78540259e-01 -2.88070222e-01]\n [ 1.49638563e+00  3.79589933e-01  7.47935353e-01 -3.77138442e-01]\n [ 9.87805733e-02  3.29611273e-01 -1.52398627e+00 -1.50410904e+00]\n [ 8.06594638e-01  4.81827559e-01 -3.99908198e+00 -7.47427368e-01]\n [ 9.11862800e-02  1.29884062e+00 -1.58312381e+00 -2.30647590e+00]\n [-6.27185397e-01  1.22111507e+00 -8.59470499e-01 -3.15703013e+00]\n [ 5.82086641e-01  3.70811674e-01  2.40942418e-02 -3.63759741e-01]\n [ 2.52995459e+00  1.08377015e-01 -2.06231913e+00 -1.30239544e+00]\n [ 1.21482090e+00  2.10737181e-01 -1.25587892e+00 -1.44202588e+00]\n [ 1.26773934e+00  1.53881988e+00 -1.24402068e+00 -1.05286727e+00]\n [ 2.84187148e+00 -8.73275738e-01 -1.79650231e+00 -1.19117312e+00]\n [ 1.46520346e+00  1.52426949e+00 -3.56885738e-01 -1.29362297e+00]\n [ 3.49985149e-01  1.81903751e+00 -5.60778995e-01 -2.09846723e+00]\n [ 1.21084393e-01  1.65702724e+00 -1.85661164e+00 -1.56185326e+00]\n [ 2.76622754e-01  1.41809979e+00 -6.54067865e-01 -1.04015768e+00]\n [-2.30746604e-01  7.63899814e-01 -1.24166576e+00 -9.79315310e-01]\n [ 1.02040274e+00  1.67089082e+00 -1.49935412e+00 -8.25729896e-01]\n [ 6.66417388e-01 -1.74372023e-01 -2.15698751e+00 -7.78211808e-01]\n [ 6.97253412e-01  1.35808908e+00 -5.24176619e-01 -5.10468007e-01]\n [ 2.71834834e-01  7.30441735e-01 -1.92640062e+00 -1.67833259e+00]\n [ 1.94968450e+00  7.07528436e-01 -2.71480473e+00 -1.16030770e+00]\n [-6.10269099e-01 -6.60114011e-01 -3.00292814e+00 -2.16787105e+00]\n [ 1.95838217e+00  6.77623026e-01 -9.63795581e-01 -3.43499097e-01]\n [-7.41710350e-01  1.36160636e+00  6.27832730e-02  1.18301511e+00]\n [ 2.00421095e-01  7.33961420e-01 -1.34389996e+00 -1.53119381e+00]\n [ 1.97120615e+00  1.38987581e+00 -8.55895921e-01 -5.03443372e-01]\n [-7.96178889e-02  1.78410232e+00 -1.21218343e+00 -3.55297998e-01]\n [-2.91648907e-01  2.63812247e+00 -1.56943929e+00 -5.78239680e-01]\n [ 2.05930805e+00 -4.66391926e-01 -1.99559646e+00 -5.59703533e-01]\n [ 8.88659745e-01  1.49644815e+00  1.65559736e-01 -4.38740716e-01]\n [ 2.03509751e+00  3.23643670e-01 -1.45940338e+00 -1.50011006e+00]\n [-9.77733869e-03  2.44309361e+00 -1.44394322e+00 -1.40867764e+00]\n [ 4.55081783e-01 -1.79431825e-01 -1.36198814e-01 -1.19911581e+00]\n [ 1.62416856e+00  1.00160618e+00  8.32656643e-01 -1.46090005e+00]\n [ 1.49621063e-01  2.71559335e+00 -1.62841348e+00 -2.71120368e+00]\n [ 1.50369128e+00  4.27990995e-01  1.33455829e+00 -3.32708510e-01]\n [-1.55181816e-01  2.17566101e-01 -3.91926362e+00 -1.35085614e+00]\n [ 1.13161739e+00  3.01720287e+00 -1.07572766e+00 -1.91795401e-01]\n [ 3.41217073e+00  1.54975621e+00 -1.60276547e+00 -1.15065877e+00]\n [ 2.00341132e+00  8.59421734e-01 -1.56992257e+00 -2.88663829e-01]\n [-1.04024342e+00  2.32146652e+00 -8.15359905e-01  2.00529974e-01]\n [ 6.52001980e-01  3.94975733e-01  1.19201759e-01 -1.64875449e-01]\n [ 1.24533467e+00  3.29111060e-01 -9.67051402e-01 -8.39040974e-01]\n [ 1.20048964e+00  2.82377292e-01 -2.28329004e+00 -1.66412194e+00]\n [-8.02762123e-01  1.35013623e+00 -3.11113237e-01 -1.50841733e+00]\n [-5.71425684e-01  2.24501142e-01 -8.28452293e-02 -2.08135538e-01]\n [ 2.66655734e+00  5.11390213e-01 -1.07549545e+00 -2.04456958e+00]\n [ 1.78074243e+00  3.20404478e+00 -1.54971682e-01 -2.38234382e-01]\n [ 9.63673570e-02  1.43453254e+00 -2.52581994e-01 -2.15028713e+00]\n [ 2.47424661e+00  1.99521193e+00  8.51205812e-01 -2.13647047e-01]\n [-1.67327359e-01  1.81505155e+00 -1.48038838e+00 -2.52637898e+00]\n [ 1.72760531e+00  4.30052161e-01  8.40914291e-02  4.57635232e-01]\n [ 1.26095065e+00  1.61598496e-01 -1.35092543e+00 -2.55577500e+00]\n [ 1.52273641e+00  6.08328656e-01 -2.53562567e-01 -1.06722090e+00]\n [ 8.95783000e-01  1.93475656e+00  4.78894102e-04 -3.53901186e+00]\n [ 2.29273866e+00  2.75129120e-02 -9.06935380e-01 -1.21709208e+00]\n [-8.09656160e-01 -2.53818511e-01  3.42331080e-01 -9.46023022e-01]\n [ 9.19306725e-01  6.89171510e-01 -6.11965192e-01 -1.53044844e+00]\n [ 6.67381171e-01  1.61752076e-01  7.24017645e-01 -4.53833053e-01]\n [ 2.41377808e+00  3.75202102e-01  6.22947728e-01 -2.93557197e+00]\n [ 1.36706292e+00  8.80135097e-01  3.35192840e-01 -8.62480061e-01]\n [ 1.03083593e+00  7.50791074e-01 -1.92540789e+00 -1.55883286e+00]\n [ 2.03505920e+00  1.73982392e+00 -1.98318767e+00 -3.00683948e+00]\n [ 6.17822244e-01  9.23680113e-01  1.13754280e-01 -1.48960940e+00]\n [ 1.07675544e+00  1.37445293e+00 -2.32667548e+00 -3.22904842e+00]\n [ 3.07780194e-01  1.30445724e-01 -1.05310245e+00 -1.22014680e+00]\n [-2.77327433e-01  4.07609514e-01 -7.67997146e-01 -1.92686743e+00]\n [ 1.22088297e+00 -9.97718342e-02 -1.93574068e+00 -2.14077997e+00]\n [ 4.32753731e-01  1.15964177e+00 -3.34255856e+00 -7.70758968e-01]]\n"
                }
            ],
            "source": [
                "load_Y = np.loadtxt('two_gaussians.csv', delimiter = ',')\n",
                "print(load_Y)\n",
                "\n",
                "\n",
                "assert np.allclose(load_Y, Y)"
            ]
        },
        {
            "cell_type": "code",
            "execution_count": 6,
            "metadata": {},
            "outputs": [],
            "source": [
                ""
            ]
        }
    ]
}
